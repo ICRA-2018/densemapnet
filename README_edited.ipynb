{
 "cells": [
  {
   "cell_type": "markdown",
   "metadata": {},
   "source": [
    "# DenseMapNet\n",
    "Keras code of **_\"Fast Disparity Estimation using Dense Networks\"_** paper at the [International Conference on Robotics and Automation, Australia, 2018 (ICRA 2018)](http://icra2018.org/)\n",
    "\n",
    "**_DenseMapNet_ Features**\n",
    "- Predicts disparity map using full resolution stereo RGB\n",
    "- Fast at >=30Hz on NVIDIA 1080Ti GPU\n",
    "- Tiny network with only 290k parameters \n",
    "- Accurate with Low End-Point-Error or EPE\n",
    "\n",
    "### Sample Predictions ###\n",
    "#### Driving, Monkaa, and Flying Datasets ####\n",
    "![Driving, Monkaa and Flying datasets](media/Driving-Monkaa-Flying.png)\n",
    "#### KITTI 2015 ####\n",
    "![KITTI 2015](media/KITTI2015.png)\n",
    "\n",
    "## Demo\n",
    "\n",
    "<a href=\"http://www.youtube.com/watch?feature=player_embedded&v=NBL-hFQRh4k\n",
    "\" target=\"_blank\"><img src=\"http://img.youtube.com/vi/NBL-hFQRh4k/0.jpg\" \n",
    "alt=\"DenseMapNet Demo\" width=\"640\" height=\"360\" border=\"10\" /></a>\n",
    "\n",
    "## Dataset\n",
    "Download datasets:\n",
    "1. [`driving`](https://drive.google.com/file/d/1q01ffNwvnZkrdw58_LIX-tf-vkzsGGmI/view?usp=sharing)\n",
    "2. [`mpi`](https://drive.google.com/file/d/1mntUmDxpmCPafYh9nCDWPgT6JyzVovDK/view?usp=sharing)\n",
    "\n",
    "Copy: `cp driving.tar.bz2 densemapnet/dataset`\n",
    "\n",
    "Change dir and extract: `cd densemanpnet/dataset; tar jxvf driving.tar.bz2`\n",
    "\n",
    "Available datasets:\n",
    "\n",
    "1. `driving` - [Driving](https://lmb.informatik.uni-freiburg.de/resources/datasets/SceneFlowDatasets.en.html) \n",
    "2. `mpi` - [MPI Sintel](http://sintel.is.tue.mpg.de/)\n",
    "\n",
    "Additional datasets will be available in the future."
   ]
  },
  {
   "cell_type": "code",
   "execution_count": null,
   "metadata": {},
   "outputs": [],
   "source": [
    "ln -s /DATASET/driving dataset"
   ]
  },
  {
   "cell_type": "markdown",
   "metadata": {},
   "source": [
    "## Training\n",
    "In some datasets, the train data is split into multiple files. For example, `driving` is split into 4 files while `mpi` fits into 1 file.\n",
    "\n",
    "To train the network:"
   ]
  },
  {
   "cell_type": "code",
   "execution_count": null,
   "metadata": {},
   "outputs": [],
   "source": [
    "python3 predictor.py --dataset=driving --num_dataset=4"
   ]
  },
  {
   "cell_type": "markdown",
   "metadata": {},
   "source": [
    "Alternatively, load the pre-trained weigths:"
   ]
  },
  {
   "cell_type": "code",
   "execution_count": null,
   "metadata": {},
   "outputs": [],
   "source": [
    "python3 predictor.py --dataset=driving --num_dataset=4 --weights=checkpoint/driving.densemapnet.weights.h5"
   ]
  },
  {
   "cell_type": "markdown",
   "metadata": {},
   "source": [
    "## Testing\n",
    "\n",
    "To measure EPE using test set:"
   ]
  },
  {
   "cell_type": "code",
   "execution_count": null,
   "metadata": {},
   "outputs": [],
   "source": [
    "python3 predictor.py --dataset=driving --num_dataset=4 --weights=checkpoint/driving.densemapnet.weights.h5 --notrain"
   ]
  },
  {
   "cell_type": "markdown",
   "metadata": {},
   "source": [
    "To benchmark speed only:"
   ]
  },
  {
   "cell_type": "code",
   "execution_count": null,
   "metadata": {},
   "outputs": [],
   "source": [
    "python3 predictor.py --dataset=driving --num_dataset=4 --weights=checkpoint/driving.densemapnet.weights.h5 --predict"
   ]
  },
  {
   "cell_type": "markdown",
   "metadata": {},
   "source": [
    "To generate disparity predictions on both train and test datasets (complete sequential images used to create the video):"
   ]
  },
  {
   "cell_type": "code",
   "execution_count": null,
   "metadata": {},
   "outputs": [],
   "source": [
    "python3 predictor.py --dataset=driving --num_dataset=4 --weights=checkpoint/driving.densemapnet.weights.h5 --predict\n",
    "--images"
   ]
  },
  {
   "cell_type": "markdown",
   "metadata": {},
   "source": [
    "## Citation\n",
    "If you find this work useful, please cite:"
   ]
  },
  {
   "cell_type": "code",
   "execution_count": null,
   "metadata": {},
   "outputs": [],
   "source": [
    "@conference{Atienza18,\n",
    "  title = {Fast Disparity Estimation using Dense Networks},\n",
    "  author = {Atienza, Rowel},\n",
    "  booktitle = {Proceedings 2018 IEEE International Conference on Robotics and Automation (ICRA)},\n",
    "  publisher = {IEEE},\n",
    "  address = {Piscataway, NJ, USA},\n",
    "  month = May,\n",
    "  year = {2018},\n",
    "  month_numeric = {5}\n",
    "}"
   ]
  }
 ],
 "metadata": {
  "kernelspec": {
   "display_name": "Bash",
   "language": "bash",
   "name": "bash"
  },
  "language_info": {
   "codemirror_mode": "shell",
   "file_extension": ".sh",
   "mimetype": "text/x-sh",
   "name": "bash"
  }
 },
 "nbformat": 4,
 "nbformat_minor": 2
}
